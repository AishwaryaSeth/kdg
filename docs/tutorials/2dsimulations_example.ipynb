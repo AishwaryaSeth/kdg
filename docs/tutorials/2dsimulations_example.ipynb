{
 "cells": [
  {
   "cell_type": "code",
   "execution_count": null,
   "id": "bd80b92b-d157-49d0-b00a-5756ed34b351",
   "metadata": {},
   "outputs": [],
   "source": [
    "# Created by: Tiffany Chu\n",
    "# Date: 8 December 2021\n",
    "# Contact At: tiffanyformosa@gmail.com"
   ]
  },
  {
   "cell_type": "code",
   "execution_count": null,
   "id": "c653c8f7-2397-44ed-97c7-2540258ff29d",
   "metadata": {},
   "outputs": [],
   "source": [
    "from kdg import utils\n",
    "\n",
    "import matplotlib.pyplot as plt\n",
    "import seaborn as sns"
   ]
  },
  {
   "cell_type": "markdown",
   "id": "18105850-e702-4d9f-bfeb-268bb4197e6b",
   "metadata": {},
   "source": [
    "This notebook provides a visualization of the 2D simulations available in kdg.utils."
   ]
  },
  {
   "cell_type": "code",
   "execution_count": null,
   "id": "0f8022f2-937f-4862-8225-e9a34a8875a1",
   "metadata": {},
   "outputs": [],
   "source": [
    "fig, axs = plt.subplots(2, 3, figsize=(16, 24))\n",
    "\n",
    "X, y = utils.generate_ellipse(1000)\n",
    "utils.plot_2dsim(X, y, ax=axs[0, 0])\n",
    "axs[0, 0].set_title(\"Ellipse Simulation, 1000 samples\")\n",
    "\n",
    "X, y = utils.generate_sinewave(1000, sigma=0.25)\n",
    "utils.plot_2dsim(X, y, ax=axs[0, 1])\n",
    "axs[0, 1].set_title(\"Sine Wave Simulation, 1000 samples\")\n",
    "\n",
    "X, y = utils.generate_gaussian_parity(1000)\n",
    "utils.plot_2dsim(X, y, ax=axs[0, 2])\n",
    "axs[0, 2].set_title(\"Gaussian Parity Simulation, 1000 samples\")\n",
    "\n",
    "X, y = utils.generate_steps(1000)\n",
    "utils.plot_2dsim(X, y, ax=axs[1, 0])\n",
    "axs[1, 0].set_title(\"Stepped Simulation, 1000 samples\")\n",
    "\n",
    "X, y = utils.generate_polynomial(1000, a=(1, 3))\n",
    "utils.plot_2dsim(X, y, ax=axs[1, 1])\n",
    "axs[1, 1].set_title(\"Polynomial Simulation, 1000 samples\")\n",
    "\n",
    "X, y = utils.generate_spirals(1000)\n",
    "utils.plot_2dsim(X, y, ax=axs[1, 2])\n",
    "axs[1, 2].set_title(\"Spiral Simulation, 1000 samples\")\n"
   ]
  }
 ],
 "metadata": {
  "kernelspec": {
   "display_name": "Python 3 (ipykernel)",
   "language": "python",
   "name": "python3"
  },
  "language_info": {
   "codemirror_mode": {
    "name": "ipython",
    "version": 3
   },
   "file_extension": ".py",
   "mimetype": "text/x-python",
   "name": "python",
   "nbconvert_exporter": "python",
   "pygments_lexer": "ipython3",
   "version": "3.8.10"
  }
 },
 "nbformat": 4,
 "nbformat_minor": 5
}
