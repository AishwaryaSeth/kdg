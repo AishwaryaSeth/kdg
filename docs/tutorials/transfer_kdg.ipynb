{
  "nbformat": 4,
  "nbformat_minor": 0,
  "metadata": {
    "colab": {
      "name": "transfer_kdg.ipynb",
      "provenance": []
    },
    "kernelspec": {
      "name": "python3",
      "display_name": "Python 3"
    },
    "language_info": {
      "name": "python"
    }
  },
  "cells": [
    {
      "cell_type": "code",
      "execution_count": null,
      "metadata": {
        "id": "Mx1sq7taAkvt"
      },
      "outputs": [],
      "source": [
        "import numpy as np\n",
        "import pandas as pd\n",
        "import seaborn as sns\n",
        "import matplotlib.pyplot as plt\n",
        "\n",
        "from kdg import *\n",
        "from kdg.utils import *\n",
        "\n",
        "from functions.transfer_kdg_functions import *"
      ]
    },
    {
      "cell_type": "markdown",
      "source": [
        "## Intro to KDG"
      ],
      "metadata": {
        "id": "5f6F270nDEoU"
      }
    },
    {
      "cell_type": "code",
      "source": [
        "n_labels = 5\n",
        "task_id = f\"Spiral{n_labels}\"\n",
        "X1, y1 = generate_spirals(2000, n_class=n_labels)\n",
        "X1_test, y1_test = generate_spirals(5000, n_class=n_labels)\n",
        "\n",
        "rf_kwargs = {\"n_estimators\": 100, \"verbose\": 0}\n",
        "kdg_spiral = kdg.kdf(kwargs = rf_kwargs) #could also use KDN\n",
        "kdg_spiral.fit(X1, y1, task_id, **rf_kwargs)\n",
        "acc = np.mean(kdg_spiral.predict(X1_test, task_id) == y1_test)\n",
        "\n",
        "posteriors = get_posteriors(kdg_spiral, y1)\n",
        "\n",
        "Xgen, ygen = kdg_spiral.generate_data(5000, task_id)\n",
        "print(f\"{task_id} accuracy: {acc}\")\n",
        "\n",
        "fig, ax = plt.subplots(1, 3, fig_size = (15, 5))\n",
        "ax[0] = plot_2dsim(X1, y1, palette=\"bright\")\n",
        "ax[1] = plot_2dsim(posteriors, palette=\"bright\")\n",
        "ax[2] = plot_2dsim(Xgen, ygen, palette=\"bright\")"
      ],
      "metadata": {
        "id": "YOtw6n0QAvc9"
      },
      "execution_count": null,
      "outputs": []
    },
    {
      "cell_type": "markdown",
      "source": [
        "## Visualize posteriors"
      ],
      "metadata": {
        "id": "9r4CdSi2DBQp"
      }
    },
    {
      "cell_type": "markdown",
      "source": [
        "### Force flip"
      ],
      "metadata": {
        "id": "EZOxz6ryDvOL"
      }
    },
    {
      "cell_type": "code",
      "source": [
        "n_train = 300\n",
        "n_test = 1000\n",
        "\n",
        "X, y = generate_spirals(n_train*2, n_class=2)\n",
        "X_test, y_test = generate_spirals(n_test, n_class=2)\n",
        "\n",
        "rf_kwargs = {\"n_estimators\": 100, \"verbose\": 0}\n",
        "kdg_spiral = kdg.kdf(kwargs = rf_kwargs) #could also use KDN\n",
        "force_flip(X, y, X_test, y_test,\n",
        "           \"Spiral\", kdg_spiral)"
      ],
      "metadata": {
        "id": "LpPUyOVDC9tk"
      },
      "execution_count": null,
      "outputs": []
    },
    {
      "cell_type": "markdown",
      "source": [
        "### General Transfer"
      ],
      "metadata": {
        "id": "Bc1w1X-9Dw4O"
      }
    },
    {
      "cell_type": "code",
      "source": [
        "X2, y2 = generate_spirals(n_train, n_class=2)\n",
        "X2_test, y2_test = generate_spirals(n_test, n_class=2)\n",
        "y2 = -1*(y2-1)\n",
        "y2_test = -1*(y2_test-1)\n",
        "\n",
        "kdf_multitask = kdf(kwargs = fit_kwargs)\n",
        "\n",
        "transfer_posteriors(X, y, X_test, y_test,\n",
        "                    X2, y2, X2_test, y2_test,\n",
        "                    \"Spiral\", \"SpiralFlip\",\n",
        "                    kdf_multitask)"
      ],
      "metadata": {
        "id": "-t-Jzd42DoB-"
      },
      "execution_count": null,
      "outputs": []
    },
    {
      "cell_type": "markdown",
      "source": [
        "## Manuscript Figures (derived from ProgLearn)"
      ],
      "metadata": {
        "id": "c4XwMFBjD5YD"
      }
    },
    {
      "cell_type": "code",
      "source": [
        "# define hyperparameters:\n",
        "fit_kwargs = {\"n_estimators\": 500, \"verbose\": 0}\n",
        "kdg_experiment = kdg.kdf(kwargs = fit_kwargs) \n",
        "mc_rep = 20\n",
        "n_t1 = np.arange(50, 751, step=50).astype(int)\n",
        "n_t2 = np.arange(50, 751, step=50).astype(int)\n",
        "n_test = 1000\n",
        "\n",
        "#choose save path\n",
        "save_path = \"kdg_demo.npz\"\n",
        "\n",
        "# run the experiment on the selected data functions\n",
        "# look at kdg.utils for types of data that can be used\n",
        "mean_error, std_error, mean_te, std_te = run(kdg_experiment,\n",
        "                                             mc_rep,\n",
        "                                             n_t1,\n",
        "                                             n_t2,\n",
        "                                             n_test = n_test,\n",
        "                                             gen_1 = generate_spirals,\n",
        "                                             gen_kwargs1 = {n_class = 3},\n",
        "                                             gen_kwargs2 = {n_class = 5})\n",
        "\n",
        "np.savez(save_path,\n",
        "         task1 = n_t1,\n",
        "         task2 = n_t2,\n",
        "         mean_error = mean_error,\n",
        "         mean_te = mean_te)"
      ],
      "metadata": {
        "id": "8hn3EMeRD4wd"
      },
      "execution_count": null,
      "outputs": []
    },
    {
      "cell_type": "code",
      "source": [
        "with np.load(save_path) as data:\n",
        "    n_t1 = data[\"task1\"]\n",
        "    n_t2 = data[\"task2\"]\n",
        "    mean_error = data[\"mean_error\"]\n",
        "    mean_te = data[\"mean_te\"]\n",
        "\n",
        "n_data = max(np.max(n_t1), np.max(n_t2))\n",
        "\n",
        "s3, s3_labels = generate_spirals(n_data, n_class = 3)\n",
        "s5, s5_labels = generate_spirals(n_data, n_class = 5)\n",
        "\n",
        "plot_error_and_eff(n_t1, n_t2,\n",
        "                   mean_error, mean_te,\n",
        "                   \"Spiral3\", \"Spiral5\",\n",
        "                   s3, s3_labels,\n",
        "                   s5, s5_labels)"
      ],
      "metadata": {
        "id": "SthNaOmSFAdq"
      },
      "execution_count": null,
      "outputs": []
    }
  ]
}